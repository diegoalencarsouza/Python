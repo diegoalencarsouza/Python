{
 "cells": [
  {
   "cell_type": "markdown",
   "metadata": {},
   "source": [
    "## PT-BR: Algoritmos de Codificação de mensagens : A cifra Cesar\n",
    "\n",
    "\n",
    "\n",
    "Nesse estudo, será criado o algoritmo da cifra de codificação e decodificação Caesar.\n",
    "\n",
    "#### *A cifra Cesar*\n",
    "\n",
    "A Cifra de César, também conhecida como cifra de troca, código de César ou troca de César, é uma das mais simples e conhecidas técnicas de criptografia. É um tipo de cifra de substituição na qual cada letra do texto é substituída por outra, que se apresenta no alfabeto abaixo dela um número fixo de vezes. Por exemplo, com uma troca de três posições, A seria substituído por D, B se tornaria E, e assim por diante. O nome do método é em homenagem a Júlio César, que o usou para se comunicar com os seus generais. *Wikipedia*\n",
    "\n",
    "\n"
   ]
  },
  {
   "cell_type": "markdown",
   "metadata": {},
   "source": [
    "## EN: Coded Messages Algorithm : The Caesar Cipher\n",
    "\n",
    "In this study, it will be exposed the Caesar`s coding and decoding algorithm.\n",
    "\n",
    "#### *The Caesar cipher*\n",
    "\n",
    "The Caesar cipher, also known as shift cipher, Caesar's code or Caesar's shift, is one of the simplest and most widely known encryption techniques. It is a type of substitution cipher in which each letter in the plaintext is replaced by a letter some fixed number of positions down the alphabet. For example, with a left shift of 3, D would be replaced by A, E would become B, and so on. The method is named after Julius Caesar, who used it in his private correspondence. *Wikipedia*"
   ]
  },
  {
   "cell_type": "markdown",
   "metadata": {},
   "source": [
    "***"
   ]
  },
  {
   "cell_type": "markdown",
   "metadata": {},
   "source": [
    "##### Algoritmo da Cifra Caesar\n",
    "\n",
    "Para este algoritmo, foram criadas 2 funções (a função codificar e a função decodificar). \n",
    "São iniciadas 2 variáveis(alfabeto e pontuacao), contendo o alfabeto e as principais pontuações e espacamento.\n",
    "Cada função necessita de 2 parâmetros, a mensagem da qual será codificada ou decodificada e o deslocamento que é necessário (quantas posições do alfabeto serão necessárias para troca).\n",
    "Para fins deste estudo, não são incluidas as acentuações, pois o intuito é entender a lógica. \n",
    "Uma terceira variável é inicializada com a mensagem da qual se necessita a decodificação ou codificação.\n",
    "\n",
    "\n",
    "For this algorithm, 2 functions were created (the code *codificar* and the *decodificar* function).\n",
    "Two variables (*alfabeto* and *pontuacao*) are initiated, containing the alphabet and the main scores and spacing.\n",
    "Each function requires 2 parameters, the message from which it will be encoded or decoded, and the offset that is required (how many alphabet positions will be required for exchange).\n",
    "For the purposes of this study, accents are not included, because the intention is to understand logic.\n",
    "A third variable is initialized with the message from which decoding or encoding is required.\n"
   ]
  },
  {
   "cell_type": "code",
   "execution_count": 1,
   "metadata": {},
   "outputs": [],
   "source": [
    "#inicialização das variáveis alfabeto e pontuacao\n",
    "#initialization of alphabet and punctuation variables\n",
    "\n",
    "alfabeto = \"abcdefghijklmnopqrstuvwxyz\"\n",
    "pontuacao = \".,?'! \"\n",
    "\n",
    "#função codificar utilizando a cifra cesar com direção para trás\n",
    "#code function using the backward-direction caesar cipher\n",
    "\n",
    "def codificar(mensagem, deslocamento):\n",
    "    codificacao = \"\"\n",
    "    for letra in mensagem:\n",
    "        if not letra in pontuacao:\n",
    "            valor1 = alfabeto.find(letra)\n",
    "            codificacao += alfabeto[(valor1 - deslocamento) % 26]\n",
    "        else:\n",
    "            codificacao += letra\n",
    "    return codificacao\n",
    "\n",
    "#função decodificar utilizando a cifra cesar com direção para frente\n",
    "#decode function using forward direction caesar cipher\n",
    "\n",
    "def decodificar(mensagem, deslocamento):\n",
    "    codificacao = \"\"\n",
    "    for letra in mensagem:\n",
    "        if not letra in pontuacao:\n",
    "            valor1 = alfabeto.find(letra)\n",
    "            codificacao += alfabeto[(valor1 + deslocamento) % 26]\n",
    "        else:\n",
    "            codificacao += letra\n",
    "    return codificacao\n"
   ]
  },
  {
   "cell_type": "code",
   "execution_count": 2,
   "metadata": {},
   "outputs": [
    {
     "name": "stdout",
     "output_type": "stream",
     "text": [
      "lix jrkal, bpqb b rj qbpqb\n",
      "ola mundo, este e um teste\n"
     ]
    }
   ],
   "source": [
    "#teste\n",
    "mensagem_codificada = codificar(\"ola mundo, este e um teste\", 3)\n",
    "print(mensagem_codificada)\n",
    "\n",
    "mensagem_decodificada = decodificar(mensagem_codificada,3)\n",
    "print(mensagem_decodificada)\n"
   ]
  }
 ],
 "metadata": {
  "kernelspec": {
   "display_name": "Python 3.10.7 64-bit (microsoft store)",
   "language": "python",
   "name": "python3"
  },
  "language_info": {
   "codemirror_mode": {
    "name": "ipython",
    "version": 3
   },
   "file_extension": ".py",
   "mimetype": "text/x-python",
   "name": "python",
   "nbconvert_exporter": "python",
   "pygments_lexer": "ipython3",
   "version": "3.10.7"
  },
  "orig_nbformat": 4,
  "vscode": {
   "interpreter": {
    "hash": "85aece5883f23cf93a903b25fd3f6a5833dab6da9d10cf403dbbc785be5e4181"
   }
  }
 },
 "nbformat": 4,
 "nbformat_minor": 2
}
